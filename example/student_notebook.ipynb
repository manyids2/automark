{
 "cells": [
  {
   "cell_type": "code",
   "execution_count": 1,
   "metadata": {},
   "outputs": [],
   "source": [
    "import sys\n",
    "sys.path.append('..')\n",
    "\n",
    "import automark as am\n",
    "import numpy as np"
   ]
  },
  {
   "cell_type": "code",
   "execution_count": 21,
   "metadata": {},
   "outputs": [],
   "source": [
    "# There are 5 test users\n",
    "# id1 ... id5\n",
    "# You can choose any\n",
    "\n",
    "USERNAME = '13998129'"
   ]
  },
  {
   "cell_type": "code",
   "execution_count": 22,
   "metadata": {},
   "outputs": [
    {
     "name": "stdout",
     "output_type": "stream",
     "text": [
      "---------------------------------------------\n",
      "| Maria Ahannach                            |\n",
      "| maria.ahannach@student.uva.nl             |\n",
      "---------------------------------------------\n",
      "| linear_forward           | not attempted  |\n",
      "| linear_grad_W            | not attempted  |\n",
      "| linear_grad_b            | not attempted  |\n",
      "| nll_forward              | not attempted  |\n",
      "| nll_grad_input           | not attempted  |\n",
      "| sigmoid_forward          | not attempted  |\n",
      "| sigmoid_grad_input       | not attempted  |\n",
      "| tree_gini_index          | not attempted  |\n",
      "| tree_split_data_left     | not attempted  |\n",
      "| tree_split_data_right    | not attempted  |\n",
      "| tree_to_terminal         | not attempted  |\n",
      "---------------------------------------------\n"
     ]
    }
   ],
   "source": [
    "# Currently none of the assignments are attempted\n",
    "am.Config.host = \"http://178.62.224.167:1234/\"\n",
    "am.get_progress(USERNAME)"
   ]
  },
  {
   "cell_type": "markdown",
   "metadata": {},
   "source": [
    "## Assignment 1: matmul"
   ]
  },
  {
   "cell_type": "code",
   "execution_count": 7,
   "metadata": {},
   "outputs": [],
   "source": [
    "def matmul(A, B):\n",
    "    \"\"\"simple matrix-by-matrix multiplication\n",
    "    # Args:\n",
    "        A: a matrix of size [N, M], numpy.ndarray, float32\n",
    "        B: a matrix of size [M, K], numpy.ndarray, float32\n",
    "    # Output:\n",
    "        C: a mtrix of size [N, K], numpy.ndarray, float32\n",
    "    \"\"\"\n",
    "    C = A.dot(B)\n",
    "\n",
    "    return C"
   ]
  },
  {
   "cell_type": "code",
   "execution_count": 8,
   "metadata": {},
   "outputs": [
    {
     "name": "stdout",
     "output_type": "stream",
     "text": [
      "Running local tests...\n"
     ]
    },
    {
     "ename": "KeyError",
     "evalue": "'matmul'",
     "output_type": "error",
     "traceback": [
      "\u001b[0;31m---------------------------------------------------------------------------\u001b[0m",
      "\u001b[0;31mKeyError\u001b[0m                                  Traceback (most recent call last)",
      "\u001b[0;32m/var/folders/5w/s7hldwk16d7f7yfxp4vt59c00000gn/T/ipykernel_9415/2047488852.py\u001b[0m in \u001b[0;36m<module>\u001b[0;34m\u001b[0m\n\u001b[0;32m----> 1\u001b[0;31m \u001b[0mam\u001b[0m\u001b[0;34m.\u001b[0m\u001b[0mtest_student_function\u001b[0m\u001b[0;34m(\u001b[0m\u001b[0mUSERNAME\u001b[0m\u001b[0;34m,\u001b[0m \u001b[0mmatmul\u001b[0m\u001b[0;34m,\u001b[0m \u001b[0;34m[\u001b[0m\u001b[0;34m'A'\u001b[0m\u001b[0;34m,\u001b[0m \u001b[0;34m'B'\u001b[0m\u001b[0;34m]\u001b[0m\u001b[0;34m)\u001b[0m\u001b[0;34m\u001b[0m\u001b[0;34m\u001b[0m\u001b[0m\n\u001b[0m",
      "\u001b[0;32m~/Desktop/automark/automark.py\u001b[0m in \u001b[0;36mtest_student_function\u001b[0;34m(username, function, arg_keys)\u001b[0m\n\u001b[1;32m     96\u001b[0m \u001b[0;34m\u001b[0m\u001b[0m\n\u001b[1;32m     97\u001b[0m     \u001b[0mprint\u001b[0m\u001b[0;34m(\u001b[0m\u001b[0;34m'Running local tests...'\u001b[0m\u001b[0;34m)\u001b[0m\u001b[0;34m\u001b[0m\u001b[0;34m\u001b[0m\u001b[0m\n\u001b[0;32m---> 98\u001b[0;31m     \u001b[0;32mif\u001b[0m \u001b[0m_passed_local_tests\u001b[0m\u001b[0;34m(\u001b[0m\u001b[0mfunction\u001b[0m\u001b[0;34m,\u001b[0m \u001b[0marg_keys\u001b[0m\u001b[0;34m)\u001b[0m\u001b[0;34m:\u001b[0m\u001b[0;34m\u001b[0m\u001b[0;34m\u001b[0m\u001b[0m\n\u001b[0m\u001b[1;32m     99\u001b[0m         \u001b[0mprint\u001b[0m\u001b[0;34m(\u001b[0m\u001b[0;34m'{} successfully passed local tests'\u001b[0m\u001b[0;34m.\u001b[0m\u001b[0mformat\u001b[0m\u001b[0;34m(\u001b[0m\u001b[0mfunction\u001b[0m\u001b[0;34m.\u001b[0m\u001b[0m__name__\u001b[0m\u001b[0;34m)\u001b[0m\u001b[0;34m)\u001b[0m\u001b[0;34m\u001b[0m\u001b[0;34m\u001b[0m\u001b[0m\n\u001b[1;32m    100\u001b[0m         \u001b[0mprint\u001b[0m\u001b[0;34m(\u001b[0m\u001b[0;34m'Running remote test...'\u001b[0m\u001b[0;34m)\u001b[0m\u001b[0;34m\u001b[0m\u001b[0;34m\u001b[0m\u001b[0m\n",
      "\u001b[0;32m~/Desktop/automark/automark.py\u001b[0m in \u001b[0;36m_passed_local_tests\u001b[0;34m(function, arg_keys)\u001b[0m\n\u001b[1;32m    163\u001b[0m             \u001b[0mtest_data\u001b[0m \u001b[0;34m=\u001b[0m \u001b[0mpickle\u001b[0m\u001b[0;34m.\u001b[0m\u001b[0mload\u001b[0m\u001b[0;34m(\u001b[0m\u001b[0mf\u001b[0m\u001b[0;34m)\u001b[0m\u001b[0;34m\u001b[0m\u001b[0;34m\u001b[0m\u001b[0m\n\u001b[1;32m    164\u001b[0m \u001b[0;34m\u001b[0m\u001b[0m\n\u001b[0;32m--> 165\u001b[0;31m     \u001b[0mdata\u001b[0m \u001b[0;34m=\u001b[0m \u001b[0mtest_data\u001b[0m\u001b[0;34m[\u001b[0m\u001b[0mfunction\u001b[0m\u001b[0;34m.\u001b[0m\u001b[0m__name__\u001b[0m\u001b[0;34m]\u001b[0m\u001b[0;34m\u001b[0m\u001b[0;34m\u001b[0m\u001b[0m\n\u001b[0m\u001b[1;32m    166\u001b[0m     \u001b[0minputs\u001b[0m \u001b[0;34m=\u001b[0m \u001b[0mdata\u001b[0m\u001b[0;34m[\u001b[0m\u001b[0;34m'inputs'\u001b[0m\u001b[0;34m]\u001b[0m\u001b[0;34m\u001b[0m\u001b[0;34m\u001b[0m\u001b[0m\n\u001b[1;32m    167\u001b[0m     \u001b[0moutputs\u001b[0m \u001b[0;34m=\u001b[0m \u001b[0mdata\u001b[0m\u001b[0;34m[\u001b[0m\u001b[0;34m'outputs'\u001b[0m\u001b[0;34m]\u001b[0m\u001b[0;34m\u001b[0m\u001b[0;34m\u001b[0m\u001b[0m\n",
      "\u001b[0;31mKeyError\u001b[0m: 'matmul'"
     ]
    }
   ],
   "source": [
    "am.test_student_function(USERNAME, matmul, ['A', 'B'])"
   ]
  },
  {
   "cell_type": "code",
   "execution_count": 26,
   "metadata": {},
   "outputs": [
    {
     "name": "stdout",
     "output_type": "stream",
     "text": [
      "---------------------------------------------\n",
      "| Maria Ahannach                            |\n",
      "| maria.ahannach@student.uva.nl             |\n",
      "---------------------------------------------\n",
      "| linear_forward           | not attempted  |\n",
      "| linear_grad_W            | not attempted  |\n",
      "| linear_grad_b            | not attempted  |\n",
      "| nll_forward              | not attempted  |\n",
      "| nll_grad_input           | not attempted  |\n",
      "| sigmoid_forward          | completed      |\n",
      "| sigmoid_grad_input       | not attempted  |\n",
      "| tree_gini_index          | not attempted  |\n",
      "| tree_split_data_left     | not attempted  |\n",
      "| tree_split_data_right    | not attempted  |\n",
      "| tree_to_terminal         | not attempted  |\n",
      "---------------------------------------------\n"
     ]
    }
   ],
   "source": [
    "am.get_progress(USERNAME)"
   ]
  },
  {
   "cell_type": "markdown",
   "metadata": {},
   "source": [
    "## Assignment 2: sigmoid\n",
    "\n",
    "$$\n",
    "\\sigma(x) = \\frac{1}{1 + e^{-x}}\n",
    "$$"
   ]
  },
  {
   "cell_type": "code",
   "execution_count": 24,
   "metadata": {},
   "outputs": [],
   "source": [
    "def sigmoid_forward(x_input):\n",
    "    \"\"\"element-wise sigmoid function\n",
    "    # Args:\n",
    "        x: a vector of length N, numpy.ndarray, float32\n",
    "    # Output:\n",
    "        y: a vector of length N, numpy.ndarray, float32\n",
    "    \"\"\"\n",
    "    y = 1 / (1 + np.exp(-x_input))\n",
    "\n",
    "    return y"
   ]
  },
  {
   "cell_type": "code",
   "execution_count": 25,
   "metadata": {},
   "outputs": [
    {
     "name": "stdout",
     "output_type": "stream",
     "text": [
      "The current version of local tests is outdated. The local tests are removed.\n",
      "Downloading local tests...\n",
      "Local tests are downloaded.\n",
      "Running local tests...\n",
      "sigmoid_forward successfully passed local tests\n",
      "Running remote test...\n",
      "Test was successful. Congratulations!\n"
     ]
    }
   ],
   "source": [
    "am.test_student_function(USERNAME, sigmoid_forward, ['x_input'])"
   ]
  },
  {
   "cell_type": "code",
   "execution_count": null,
   "metadata": {},
   "outputs": [],
   "source": [
    "am.get_progress(USERNAME)"
   ]
  },
  {
   "cell_type": "code",
   "execution_count": null,
   "metadata": {},
   "outputs": [],
   "source": []
  }
 ],
 "metadata": {
  "kernelspec": {
   "display_name": "Python 3 (ipykernel)",
   "language": "python",
   "name": "python3"
  },
  "language_info": {
   "codemirror_mode": {
    "name": "ipython",
    "version": 3
   },
   "file_extension": ".py",
   "mimetype": "text/x-python",
   "name": "python",
   "nbconvert_exporter": "python",
   "pygments_lexer": "ipython3",
   "version": "3.8.0"
  }
 },
 "nbformat": 4,
 "nbformat_minor": 4
}
